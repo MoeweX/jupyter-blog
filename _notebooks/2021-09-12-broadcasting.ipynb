{
 "cells": [
  {
   "cell_type": "markdown",
   "source": [
    "# \"PyTorch Broadcasting\"\n",
    "> Running computations on tensors of different ranks with PyTorch\n",
    "\n",
    "- toc: true\n",
    "- badges: true\n",
    "- comments: false\n",
    "- categories: [jupyter, fastai, pytorch, broadcasting]\n",
    "- image: images/chart-preview.png"
   ],
   "metadata": {}
  },
  {
   "cell_type": "code",
   "execution_count": 77,
   "source": [
    "#hide\n",
    "from fastai.vision.all import *\n",
    "\n",
    "matplotlib.rc('image', cmap='Greys')"
   ],
   "outputs": [],
   "metadata": {}
  },
  {
   "cell_type": "code",
   "execution_count": 78,
   "source": [
    "#hide\n",
    "path = untar_data(URLs.MNIST_SAMPLE)\n",
    "Path.BASE_PATH = path\n",
    "path.ls()"
   ],
   "outputs": [
    {
     "output_type": "execute_result",
     "data": {
      "text/plain": [
       "(#3) [Path('valid'),Path('labels.csv'),Path('train')]"
      ]
     },
     "metadata": {},
     "execution_count": 78
    }
   ],
   "metadata": {}
  },
  {
   "cell_type": "code",
   "execution_count": 79,
   "source": [
    "#hide\n",
    "threes_train = (path/'train'/'3').ls().sorted()\n",
    "sevens_train = (path/'train'/'7').ls().sorted()\n",
    "threes_valid = (path/'valid'/'3').ls().sorted()\n",
    "sevens_valid = (path/'valid'/'7').ls().sorted()\n",
    "\n",
    "threes_train"
   ],
   "outputs": [
    {
     "output_type": "execute_result",
     "data": {
      "text/plain": [
       "(#6131) [Path('train/3/10.png'),Path('train/3/10000.png'),Path('train/3/10011.png'),Path('train/3/10031.png'),Path('train/3/10034.png'),Path('train/3/10042.png'),Path('train/3/10052.png'),Path('train/3/1007.png'),Path('train/3/10074.png'),Path('train/3/10091.png')...]"
      ]
     },
     "metadata": {},
     "execution_count": 79
    }
   ],
   "metadata": {}
  },
  {
   "cell_type": "markdown",
   "source": [
    "# Introduction\n",
    "\n",
    "Recently, I stumbled upon [fastai](https://github.com/fastai/fastai), a deep learning library with a very eye catching slogan: *Making neural nets uncool again*.\n",
    "As it turns out, there is also a very [good course](https://course.fast.ai/) on this library from one of its creators, Jeremy Howard, that is very much hands on.\n",
    "\n",
    "The task of Lesson 3 is to build a Digit Classifier from hand written images based on the [MNIST dataset](http://yann.lecun.com/exdb/mnist/).\n",
    "But before training any models, Jeremy explains that one should always create a simplistic baseline to later put the performance of the fancy machine learning models into perspective.\n",
    "The baseline should be easy to implement, e.g., by only relying on simple arithmetic operations.\n",
    "The key idea of the lessons' baseline is to average the pixel values for each digit (in our small example below only we only use the digits 3 and 7) and then compute the difference between a given digit image to these average.\n",
    "\n",
    "During the last few years, I did a lot of typical data scientist tasks as part of my PhD.\n",
    "One thing that I always found quite fascinating is how NumPy treats arrays with different dimensions/ranks during arithmetic operations through a mechanism called **broadcasting**.\n",
    "PyTorch tensors also support this mechanism and I really liked how Jeremy used it for creating the baseline.\n",
    "In addition, I think that Jeremys explained very well how broadcasting works so I decided to summarize it in this blog post.\n"
   ],
   "metadata": {}
  },
  {
   "cell_type": "markdown",
   "source": [
    "# Training and Validation Data\n",
    "\n",
    "We have four datasets with digit images available: A training and a validation dataset of threes, and a training and a validation dataset of fours.\n",
    "For example, the second three from the training dataset looks like so:"
   ],
   "metadata": {}
  },
  {
   "cell_type": "code",
   "execution_count": 80,
   "source": [
    "#collapse-hide\n",
    "show_image(Image.open(threes_train[1]))"
   ],
   "outputs": [
    {
     "output_type": "execute_result",
     "data": {
      "text/plain": [
       "<AxesSubplot:>"
      ]
     },
     "metadata": {},
     "execution_count": 80
    },
    {
     "output_type": "display_data",
     "data": {
      "image/png": "[encoded data removed]",
      "text/plain": [
       "<Figure size 72x72 with 1 Axes>"
      ]
     },
     "metadata": {
      "needs_background": "light"
     }
    }
   ],
   "metadata": {}
  },
  {
   "cell_type": "markdown",
   "source": [
    "The first thing we want to do is to load the training images into tensors."
   ],
   "metadata": {}
  },
  {
   "cell_type": "code",
   "execution_count": 81,
   "source": [
    "three_train_tensors = [tensor(Image.open(o)) for o in threes_train]\n",
    "seven_train_tensors = [tensor(Image.open(o)) for o in sevens_train]\n",
    "# lets see how many tensors we have\n",
    "len(three_train_tensors), len(seven_train_tensors)"
   ],
   "outputs": [
    {
     "output_type": "execute_result",
     "data": {
      "text/plain": [
       "(6131, 6265)"
      ]
     },
     "metadata": {},
     "execution_count": 81
    }
   ],
   "metadata": {}
  },
  {
   "cell_type": "markdown",
   "source": [
    "Each tensor contains a pixel matrix, the values in the matrix describe the color of each pixel on a grey scale.\n",
    "A 0 indicates a white pixel and a 255 indicates a black pixel.\n",
    "For example, row and column 4 to 10 from the pixel matrix of the three above looks like so."
   ],
   "metadata": {}
  },
  {
   "cell_type": "code",
   "execution_count": 82,
   "source": [
    "three_train_tensors[1][4:10,4:10]"
   ],
   "outputs": [
    {
     "output_type": "execute_result",
     "data": {
      "text/plain": [
       "tensor([[  0,   0,   0,   0,   0,   0],\n",
       "        [  0,   0,   0,   0,   0,  29],\n",
       "        [  0,   0,   0,  48, 166, 224],\n",
       "        [  0,  93, 244, 249, 253, 187],\n",
       "        [  0, 107, 253, 253, 230,  48],\n",
       "        [  0,   3,  20,  20,  15,   0]], dtype=torch.uint8)"
      ]
     },
     "metadata": {},
     "execution_count": 82
    }
   ],
   "metadata": {}
  },
  {
   "cell_type": "markdown",
   "source": [
    "Now, for calculating the mean of all pixel values, i.e., the *ideal* three or seven, we need to stack the image matrices.\n",
    "In other words, we need to create a cube.\n",
    "Since we will later on calculate the mean of each pixel based on the cube, we will end up with float values.\n",
    "Therefore, we already convert integers to floats and transform them to be between 0 and 1. "
   ],
   "metadata": {}
  },
  {
   "cell_type": "code",
   "execution_count": 83,
   "source": [
    "threes_train_stacked = torch.stack(three_train_tensors).float()/255\n",
    "sevens_train_stacked = torch.stack(seven_train_tensors).float()/255\n",
    "stacked_threes.shape, stacked_sevens.shape"
   ],
   "outputs": [
    {
     "output_type": "execute_result",
     "data": {
      "text/plain": [
       "(torch.Size([6131, 28, 28]), torch.Size([6265, 28, 28]))"
      ]
     },
     "metadata": {},
     "execution_count": 83
    }
   ],
   "metadata": {}
  },
  {
   "cell_type": "markdown",
   "source": [
    "The results are two cube, i.e., two rank-3 tensors, with the above shapes.\n",
    "The rank of each tensor is the number of axes while the shape is this size of each axis."
   ],
   "metadata": {}
  },
  {
   "cell_type": "markdown",
   "source": [
    "# A Metric to Determine the Similarity\n",
    "\n",
    "With the rank-3 tensors we can now calculate the mean three digit and the mean seven digit.\n",
    "We need both to compare how similar a given digit is to the *ideal* three or seven."
   ],
   "metadata": {}
  },
  {
   "cell_type": "code",
   "execution_count": 84,
   "source": [
    "mean3 = stacked_threes.mean(0)\n",
    "mean7 = stacked_sevens.mean(0)\n",
    "\n",
    "show_image(mean3), show_image(mean7)"
   ],
   "outputs": [
    {
     "output_type": "execute_result",
     "data": {
      "text/plain": [
       "(<AxesSubplot:>, <AxesSubplot:>)"
      ]
     },
     "metadata": {},
     "execution_count": 84
    },
    {
     "output_type": "display_data",
     "data": {
      "image/png": "[encoded data removed]",
      "text/plain": [
       "<Figure size 72x72 with 1 Axes>"
      ]
     },
     "metadata": {
      "needs_background": "light"
     }
    },
    {
     "output_type": "display_data",
     "data": {
      "image/png": "[encoded data removed]",
      "text/plain": [
       "<Figure size 72x72 with 1 Axes>"
      ]
     },
     "metadata": {
      "needs_background": "light"
     }
    }
   ],
   "metadata": {}
  },
  {
   "cell_type": "markdown",
   "source": [
    "For comparing how similar a given digit is to each of these means, a good metric is the L1 norm, i.e., the *mean absolute value of differences*.\n",
    "This might sound complicated, but it is actually very easy to understand how the L1 norm is calculated just by looking at some code."
   ],
   "metadata": {}
  },
  {
   "cell_type": "code",
   "execution_count": 85,
   "source": [
    "# let's load the second image again\n",
    "i_3 = threes_train_stacked[1]\n",
    "\n",
    "# then calculate the list of absolute differences for three and sevens\n",
    "list_of_differences_3 = (i_3 - mean3).abs()\n",
    "list_of_differences_7 = (i_3 - mean7).abs()\n",
    "\n",
    "# then calculate the l1 norm which is the mean of all of these differences\n",
    "l1_3 = list_of_differences_3.mean()\n",
    "l1_7 = list_of_differences_7.mean()\n",
    "\n",
    "l1_3, l1_7"
   ],
   "outputs": [
    {
     "output_type": "execute_result",
     "data": {
      "text/plain": [
       "(tensor(0.1114), tensor(0.1586))"
      ]
     },
     "metadata": {},
     "execution_count": 85
    }
   ],
   "metadata": {}
  },
  {
   "cell_type": "markdown",
   "source": [
    "The L1 norm, i.e., the mean absolute value of differences, is smaller for the mean three so it is a three.\n",
    "This is correct, great!"
   ],
   "metadata": {}
  },
  {
   "cell_type": "markdown",
   "source": [
    "# Computing the Metric with Broadcasting\n",
    "\n",
    "We now come to the most intersting part of this blog post: We will use broadcasting to calculate the L1 norm for both validation datasets.\n",
    "First, we again create two rank-3 tensors from the validation data."
   ],
   "metadata": {}
  },
  {
   "cell_type": "code",
   "execution_count": 86,
   "source": [
    "# read in validation data (same approach as above)\n",
    "threes_valid_stacked = torch.stack([tensor(Image.open(o)) for o in (path/'valid'/'3').ls()]).float()/255\n",
    "sevens_valid_stacked = torch.stack([tensor(Image.open(o)) for o in (path/'valid'/'7').ls()]).float()/255\n",
    "\n",
    "threes_valid_stacked.shape,sevens_valid_stacked.shape"
   ],
   "outputs": [
    {
     "output_type": "execute_result",
     "data": {
      "text/plain": [
       "(torch.Size([1010, 28, 28]), torch.Size([1028, 28, 28]))"
      ]
     },
     "metadata": {},
     "execution_count": 86
    }
   ],
   "metadata": {}
  },
  {
   "cell_type": "markdown",
   "source": [
    "Then we define a function that computes the L1 norm with a similar approach as above."
   ],
   "metadata": {}
  },
  {
   "cell_type": "code",
   "execution_count": 87,
   "source": [
    "def l1_norm(a,b): return (a-b).abs().mean((-1,-2))\n",
    "\n",
    "l1_norm(i_3, mean3)"
   ],
   "outputs": [
    {
     "output_type": "execute_result",
     "data": {
      "text/plain": [
       "tensor(0.1114)"
      ]
     },
     "metadata": {},
     "execution_count": 87
    }
   ],
   "metadata": {}
  },
  {
   "cell_type": "markdown",
   "source": [
    "This seems to work! But did you notice the (-1,-2) in the mean function?\n",
    "With these parameters, we instruct the function to only use the last two axes for calculating the mean.\n",
    "Since we have a list of rank-2 tensors, we could have also ommited the parameters.\n",
    "But let's see what happens if we supply the complete stack of valid threes, i.e., a rank-3 tensor, instead of a single three, i.e., a rank-2 tensor.\n"
   ],
   "metadata": {}
  },
  {
   "cell_type": "code",
   "execution_count": 88,
   "source": [
    "result = l1_norm(threes_valid_stacked, mean3)\n",
    "result, result.shape"
   ],
   "outputs": [
    {
     "output_type": "execute_result",
     "data": {
      "text/plain": [
       "(tensor([0.1634, 0.1145, 0.1363,  ..., 0.1105, 0.1111, 0.1640]),\n",
       " torch.Size([1010]))"
      ]
     },
     "metadata": {},
     "execution_count": 88
    }
   ],
   "metadata": {}
  },
  {
   "cell_type": "markdown",
   "source": [
    "Wow! The same function now returns a rank-1 tensor instead of a single value.\n",
    "And this rank-1 tensor comprises the L1 norm for each three of the validation dataset.\n",
    "But why can we substract a rank-2 tensor (the b in the l1_norm function) form a rank_3 tensor (the a in the l1_norm function)?\n",
    "\n",
    "Jeremy explains it like so:\n",
    "\n",
    "*The magic trick is that PyTorch, when it tries to perform a simple subtraction operation between two tensors of different ranks, will use broadcasting. That is, it will automatically expand the tensor [actually PyTorch only pretends to expand the tensor, it does not allocate any extra memory] with the smaller rank to have the same size as the one with the larger rank. Broadcasting is an important capability that makes tensor code much easier to write. After broadcasting so the two argument tensors have the same rank, PyTorch applies its usual logic for two tensors of the same rank: it performs the operation on each corresponding element of the two tensors, and returns the tensor result.*\n",
    "\n",
    "This is also why we supplied (-1,-2) to the mean function. Since we always want the mean of the last two axes, no matter what rank the provided tensors have."
   ],
   "metadata": {}
  },
  {
   "cell_type": "markdown",
   "source": [
    "# Testing the Accuracy of the Baseline Model\n",
    "\n",
    "For testing the accuracy of the baseline model, we need a simple function that computes whether the l1_norm of a given image is smaller for the mean three or mean seven."
   ],
   "metadata": {}
  },
  {
   "cell_type": "code",
   "execution_count": 89,
   "source": [
    "def is_3(x): return l1_norm(x, mean3) < l1_norm(x, mean7)\n",
    "\n",
    "is_3(i_3)"
   ],
   "outputs": [
    {
     "output_type": "execute_result",
     "data": {
      "text/plain": [
       "tensor(True)"
      ]
     },
     "metadata": {},
     "execution_count": 89
    }
   ],
   "metadata": {}
  },
  {
   "cell_type": "markdown",
   "source": [
    "We again can use broadcasting to run this function on the validation dataset!"
   ],
   "metadata": {}
  },
  {
   "cell_type": "code",
   "execution_count": 90,
   "source": [
    "is_3(threes_valid_stacked)"
   ],
   "outputs": [
    {
     "output_type": "execute_result",
     "data": {
      "text/plain": [
       "tensor([True, True, True,  ..., True, True, True])"
      ]
     },
     "metadata": {},
     "execution_count": 90
    }
   ],
   "metadata": {}
  },
  {
   "cell_type": "markdown",
   "source": [
    "With all the pieces together, we can calculate how many digit images have been correctly identified as threes or sevens, i.e., the accuracy of our baseline model."
   ],
   "metadata": {}
  },
  {
   "cell_type": "code",
   "execution_count": 91,
   "source": [
    "accuracy_3s =      is_3(valid_3_tens).float() .mean()\n",
    "accuracy_7s = (1 - is_3(valid_7_tens).float()).mean()\n",
    "average_accuracy = (accuracy_3s+accuracy_7s)/2\n",
    "\n",
    "average_accuracy"
   ],
   "outputs": [
    {
     "output_type": "execute_result",
     "data": {
      "text/plain": [
       "tensor(0.9511)"
      ]
     },
     "metadata": {},
     "execution_count": 91
    }
   ],
   "metadata": {}
  },
  {
   "cell_type": "markdown",
   "source": [
    "The average accuracy is well above 90%. It will be interesting to see whether we can top this with deep learning 😉."
   ],
   "metadata": {}
  },
  {
   "cell_type": "markdown",
   "source": [
    "# Closing Remarks\n",
    "\n",
    "In this blog post, I used Jeremys approach for creating a baseline Digit Classifier model to provide a broadcasting example.\n",
    "By why should one use broadcasting instead of, for example, just creating some loops?\n",
    "I give you two reasons:\n",
    "1. A lot less code that is also much easier to read (even though the concepts are a lot more complex).\n",
    "2. PyTorch calculations are run in C (or CUDA if using a GPU), which makes it thousands of times faster than pure Python (or up to millions of times faster on a GPU)."
   ],
   "metadata": {}
  }
 ],
 "metadata": {
  "orig_nbformat": 4,
  "language_info": {
   "name": "python",
   "version": "3.8.11",
   "mimetype": "text/x-python",
   "codemirror_mode": {
    "name": "ipython",
    "version": 3
   },
   "pygments_lexer": "ipython3",
   "nbconvert_exporter": "python",
   "file_extension": ".py"
  },
  "kernelspec": {
   "name": "python3",
   "display_name": "Python 3.8.11 64-bit ('jupyter-blog': conda)"
  },
  "interpreter": {
   "hash": "19d3752f5da779b9d184a1d3beb29a8abc3512516ead272e7e4eaf4a929c6215"
  }
 },
 "nbformat": 4,
 "nbformat_minor": 2
}